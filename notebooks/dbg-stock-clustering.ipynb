{
 "cells": [
  {
   "cell_type": "markdown",
   "metadata": {},
   "source": [
    "# Clustering Similar Stocks"
   ]
  },
  {
   "cell_type": "markdown",
   "metadata": {},
   "source": [
    "In this notebook, we attempt to find similar stocks. A technique such as this would be useful for:\n",
    "\n",
    "- finding stocks that behave similarly (or dissimilarly) to one of interest\n",
    "- building trading strategies\n",
    "- identifying anomalies (e.g. if two stocks are normally correlated but fall out of line in a particular day, you might want to investigate)\n",
    "- discarding bad stocks (if stocks do not correlate with other stocks they might need investigating).\n"
   ]
  },
  {
   "cell_type": "code",
   "execution_count": 1,
   "metadata": {},
   "outputs": [
    {
     "name": "stdout",
     "output_type": "stream",
     "text": [
      "Requirement already satisfied: hdbscan in /home/ec2-user/anaconda3/envs/python3/lib/python3.6/site-packages (0.8.26)\n",
      "Requirement already satisfied: scipy>=0.9 in /home/ec2-user/anaconda3/envs/python3/lib/python3.6/site-packages (from hdbscan) (1.4.1)\n",
      "Requirement already satisfied: cython>=0.27 in /home/ec2-user/anaconda3/envs/python3/lib/python3.6/site-packages (from hdbscan) (0.29.15)\n",
      "Requirement already satisfied: numpy>=1.16.0 in /home/ec2-user/anaconda3/envs/python3/lib/python3.6/site-packages (from hdbscan) (1.18.1)\n",
      "Requirement already satisfied: scikit-learn>=0.17 in /home/ec2-user/anaconda3/envs/python3/lib/python3.6/site-packages (from hdbscan) (0.22.1)\n",
      "Requirement already satisfied: six in /home/ec2-user/anaconda3/envs/python3/lib/python3.6/site-packages (from hdbscan) (1.14.0)\n",
      "Requirement already satisfied: joblib in /home/ec2-user/anaconda3/envs/python3/lib/python3.6/site-packages (from hdbscan) (0.14.1)\n",
      "\u001b[33mWARNING: You are using pip version 20.0.2; however, version 20.2.4 is available.\n",
      "You should consider upgrading via the '/home/ec2-user/anaconda3/envs/python3/bin/python -m pip install --upgrade pip' command.\u001b[0m\n"
     ]
    }
   ],
   "source": [
    "!pip install hdbscan"
   ]
  },
  {
   "cell_type": "code",
   "execution_count": 2,
   "metadata": {},
   "outputs": [],
   "source": [
    "import io\n",
    "import s3fs\n",
    "import boto3\n",
    "import sagemaker\n",
    "import pandas as pd\n",
    "import numpy as np\n",
    "\n",
    "import matplotlib as mpl\n",
    "import matplotlib.pyplot as plt\n",
    "from sklearn.decomposition import TruncatedSVD\n",
    "from sklearn.manifold import TSNE\n",
    "import hdbscan\n",
    "import time\n",
    "import seaborn as sns\n",
    "import collections\n",
    "%matplotlib inline\n",
    "mpl.rcParams['figure.figsize'] = (5, 3) # use bigger graphs\n",
    "interval = \"D\"\n",
    "role = sagemaker.get_execution_role()\n",
    "session = sagemaker.Session()\n",
    "s3_data_key = 'dbg-stockdata/source'\n",
    "s3_bucket = 'alphavantage-dcap'"
   ]
  },
  {
   "cell_type": "markdown",
   "metadata": {},
   "source": [
    "First we load the data resampled at daily interval, from the S3 bucket location that we saved in the data preparation notebook."
   ]
  },
  {
   "cell_type": "code",
   "execution_count": 3,
   "metadata": {},
   "outputs": [
    {
     "name": "stdout",
     "output_type": "stream",
     "text": [
      "CPU times: user 68.4 ms, sys: 19.3 ms, total: 87.7 ms\n",
      "Wall time: 1.18 s\n"
     ]
    }
   ],
   "source": [
    "%%time\n",
    "\n",
    "def date_part(dt):\n",
    "    return str(dt).split(' ')[0]\n",
    "\n",
    "def load_resampled_from_s3(interval, bucket, s3_data_key):\n",
    "    s3 = boto3.client('s3')\n",
    "    obj = s3.get_object(Bucket=bucket, Key=\"{}/{}/resampled_stockdata.csv\".format(s3_data_key, interval))\n",
    "    loaded = pd.read_csv(io.BytesIO(obj['Body'].read()), index_col=0, parse_dates=True)\n",
    "    mnemonics = list(loaded.Mnemonic.unique())   \n",
    "    unique_days = sorted(list(set(map(date_part , list(loaded.index.unique())))))\n",
    "    return loaded, mnemonics, unique_days\n",
    "\n",
    "interval = \"D\"\n",
    "stockdata, stocksymbols, unique_days = load_resampled_from_s3(interval, s3_bucket, s3_data_key)"
   ]
  },
  {
   "cell_type": "markdown",
   "metadata": {},
   "source": [
    "Also, in order to visualize in the plot with meaningful names for stock symbols, we refer to this list, as provided by Deutsche Borse, that maps the mnemonics to company names."
   ]
  },
  {
   "cell_type": "code",
   "execution_count": 4,
   "metadata": {},
   "outputs": [],
   "source": [
    "mnemonic_names = {\n",
    "     'IBM': 'IBM Common Stock',\n",
    "    'AAPL' : 'Apple Inc.',\n",
    "    'MSFT' : 'Microsoft Corporation',\n",
    "    'AMZN' : 'Amazon.com, Inc.',\n",
    "    'GOOG' : 'Google ',\n",
    "    'GOOGL' : 'Alphabet Inc',\n",
    "    'FB' :'Facebook',\n",
    "    'MMC':'Marsh & McLennan Companies, Inc.'\n",
    "}"
   ]
  },
  {
   "cell_type": "markdown",
   "metadata": {},
   "source": [
    "## Methodology\n",
    "\n",
    "1. Select a time frame within which to analyze the stocks (e.g. 60 days).\n",
    "- Select an interval within which to aggregate the prices (e.g. 1 day).\n",
    "- Select a function of the price such as percent change or log returns.\n",
    "- Select a similarity function between the timeseries, such as dot product, cosine or correlation coefficient.\n",
    "- Select a clustering algorithm.\n",
    "- Visualize the results."
   ]
  },
  {
   "cell_type": "code",
   "execution_count": 5,
   "metadata": {},
   "outputs": [],
   "source": [
    "def prepare_single_stock(df, mnemonic, interval):\n",
    "    single_stock = df[df.Mnemonic == mnemonic].copy()\n",
    "    single_stock['Avg4Price'] = 0.25*(single_stock['MaxPrice'] + single_stock['MinPrice'] + \n",
    "                                      single_stock['StartPrice'] + single_stock['EndPrice'])\n",
    "    \n",
    "    resampled = pd.DataFrame({\n",
    "        'MeanAvg4Price': single_stock['Avg4Price'].resample(interval).mean(),          \n",
    "        'Mnemonic': mnemonic,\n",
    "    })\n",
    "    resampled['PctChange'] = resampled['MeanAvg4Price'].pct_change().fillna(0.0)\n",
    "    return resampled[['Mnemonic', 'PctChange', 'MeanAvg4Price']]\n",
    "\n",
    "selected_days = unique_days[0:60]\n",
    "subset_df = stockdata[stockdata.index.isin(list(selected_days))]\n",
    "mnemonics = subset_df['Mnemonic'].unique()"
   ]
  },
  {
   "cell_type": "code",
   "execution_count": 6,
   "metadata": {},
   "outputs": [],
   "source": [
    "single_stocks_dfs = []\n",
    "\n",
    "interval = 'D'\n",
    "\n",
    "for mnemonic in mnemonics:\n",
    "    single_stock = prepare_single_stock(subset_df, mnemonic, interval)\n",
    "    single_stocks_dfs.append(single_stock)\n",
    "\n",
    "# the dataframe for clustering    \n",
    "clustering_df = pd.concat(single_stocks_dfs, axis=0)\n",
    "clustering_df['CalcDateTime'] = clustering_df.index"
   ]
  },
  {
   "cell_type": "code",
   "execution_count": 7,
   "metadata": {},
   "outputs": [],
   "source": [
    "cluster_by_feature = 'PctChange' \n",
    "subset = clustering_df.pivot(index='CalcDateTime', columns='Mnemonic', values=cluster_by_feature)\n",
    "corr_mat = subset.corr().fillna(0.0)"
   ]
  },
  {
   "cell_type": "code",
   "execution_count": 8,
   "metadata": {},
   "outputs": [
    {
     "data": {
      "text/html": [
       "<div>\n",
       "<style scoped>\n",
       "    .dataframe tbody tr th:only-of-type {\n",
       "        vertical-align: middle;\n",
       "    }\n",
       "\n",
       "    .dataframe tbody tr th {\n",
       "        vertical-align: top;\n",
       "    }\n",
       "\n",
       "    .dataframe thead th {\n",
       "        text-align: right;\n",
       "    }\n",
       "</style>\n",
       "<table border=\"1\" class=\"dataframe\">\n",
       "  <thead>\n",
       "    <tr style=\"text-align: right;\">\n",
       "      <th>Mnemonic</th>\n",
       "      <th>Desc</th>\n",
       "      <th>Corr</th>\n",
       "    </tr>\n",
       "    <tr>\n",
       "      <th>Mnemonic</th>\n",
       "      <th></th>\n",
       "      <th></th>\n",
       "    </tr>\n",
       "  </thead>\n",
       "  <tbody>\n",
       "    <tr>\n",
       "      <th>IBM</th>\n",
       "      <td>IBM Common Stock</td>\n",
       "      <td>1.000000</td>\n",
       "    </tr>\n",
       "    <tr>\n",
       "      <th>GOOG</th>\n",
       "      <td>Google</td>\n",
       "      <td>0.559552</td>\n",
       "    </tr>\n",
       "    <tr>\n",
       "      <th>GOOGL</th>\n",
       "      <td>Alphabet Inc</td>\n",
       "      <td>0.554619</td>\n",
       "    </tr>\n",
       "    <tr>\n",
       "      <th>AMZN</th>\n",
       "      <td>Amazon.com, Inc.</td>\n",
       "      <td>0.411187</td>\n",
       "    </tr>\n",
       "    <tr>\n",
       "      <th>AAPL</th>\n",
       "      <td>Apple Inc.</td>\n",
       "      <td>0.361615</td>\n",
       "    </tr>\n",
       "    <tr>\n",
       "      <th>MSFT</th>\n",
       "      <td>Microsoft Corporation</td>\n",
       "      <td>0.329440</td>\n",
       "    </tr>\n",
       "    <tr>\n",
       "      <th>FB</th>\n",
       "      <td>Facebook</td>\n",
       "      <td>0.328590</td>\n",
       "    </tr>\n",
       "    <tr>\n",
       "      <th>MMC</th>\n",
       "      <td>Marsh &amp; McLennan Companies, Inc.</td>\n",
       "      <td>0.111362</td>\n",
       "    </tr>\n",
       "  </tbody>\n",
       "</table>\n",
       "</div>"
      ],
      "text/plain": [
       "Mnemonic                              Desc      Corr\n",
       "Mnemonic                                            \n",
       "IBM                       IBM Common Stock  1.000000\n",
       "GOOG                               Google   0.559552\n",
       "GOOGL                         Alphabet Inc  0.554619\n",
       "AMZN                      Amazon.com, Inc.  0.411187\n",
       "AAPL                            Apple Inc.  0.361615\n",
       "MSFT                 Microsoft Corporation  0.329440\n",
       "FB                                Facebook  0.328590\n",
       "MMC       Marsh & McLennan Companies, Inc.  0.111362"
      ]
     },
     "execution_count": 8,
     "metadata": {},
     "output_type": "execute_result"
    }
   ],
   "source": [
    "def find_most_correlated(corr_mat, mnemonic, n=10):\n",
    "    results = corr_mat[[mnemonic]].sort_values(mnemonic, ascending=False).head(n).copy()\n",
    "\n",
    "    results['Desc'] = list(map(lambda m: mnemonic_names[m], list(results.index)))\n",
    "\n",
    "    results['Corr'] = results[mnemonic]\n",
    "    \n",
    "    return results[['Desc', 'Corr']]\n",
    "\n",
    "find_most_correlated(corr_mat, 'IBM')"
   ]
  },
  {
   "cell_type": "code",
   "execution_count": 9,
   "metadata": {},
   "outputs": [
    {
     "name": "stdout",
     "output_type": "stream",
     "text": [
      "[\n",
      "Cluster 1:\n",
      "\tAAPL(Apple Inc.)\n",
      "\tAMZN(Amazon.com, Inc.)\n",
      "\tFB(Facebook)\n",
      "\tGOOG(Google )\n",
      "\tGOOGL(Alphabet Inc)\n",
      "\tIBM(IBM Common Stock)\n",
      "\tMMC(Marsh & McLennan Companies, Inc.)\n",
      "\tMSFT(Microsoft Corporation)]\n"
     ]
    }
   ],
   "source": [
    "class Cluster:\n",
    "    def __init__(self, cluster_id, members):\n",
    "        self.cluster_id = cluster_id\n",
    "        self.members = members\n",
    "        \n",
    "    def __repr__(self):\n",
    "        printstr = \"\\nCluster {}:\".format(self.cluster_id+2)\n",
    "        for mem in self.members:\n",
    "            printstr = printstr + \"\\n\\t{}\".format(mem)\n",
    "        return  printstr\n",
    "        \n",
    "def build_clusters(data, algorithm, args, kwds, names):\n",
    "    membership_labels = algorithm(*args, **kwds).fit_predict(data)\n",
    "    d = collections.defaultdict(list)\n",
    "    i = 0\n",
    "    for label in membership_labels:\n",
    "        d[label].append(names[i])\n",
    "        i += 1\n",
    "    clusters = []\n",
    "    for k,v in d.items():\n",
    "        clusters.append(Cluster(k, v))\n",
    "    clusters.sort(key=lambda x: x.cluster_id)\n",
    "\n",
    "    return membership_labels, clusters\n",
    "\n",
    "\n",
    "friendly_labels = []\n",
    "\n",
    "def truncate_str(v):\n",
    "    t = 12\n",
    "    if len(v) <= t:\n",
    "        return v\n",
    "    return v[0:10] + \"...\"\n",
    "\n",
    "for m in list(corr_mat.index):\n",
    "    friendly_labels.append(\"{}({})\".format(m, mnemonic_names[m]))\n",
    "   \n",
    "membership_labels, clusters = build_clusters(corr_mat, hdbscan.HDBSCAN, (), {'min_cluster_size':2}, friendly_labels)\n",
    "print(clusters)"
   ]
  },
  {
   "cell_type": "markdown",
   "metadata": {},
   "source": [
    "Although the result of clustering depends on the time period in which the clustering was done, the discretization interval and similarity function chosen, in general you should see somewhat similar stocks clustered together.\n",
    "\n",
    "For example, automobile companies such as these are cluetered together:\n",
    "\n",
    "    BMW (BMW)\n",
    "    Daimler (DAI)\n",
    "    Porshe (PAH3)\n",
    "    Continental (CON)\n",
    "    Volkswagen (VOW3)\n",
    "\n",
    "Also telecommunication companies are clutered together:\n",
    "\n",
    "    Nokia (NOA3)\n",
    "    Vodafone (VODI)\n",
    "    Telefonica (O2D)\n",
    "    Deutche Telecom (DTE)"
   ]
  },
  {
   "cell_type": "code",
   "execution_count": 10,
   "metadata": {},
   "outputs": [
    {
     "name": "stdout",
     "output_type": "stream",
     "text": [
      "[t-SNE] Computing 7 nearest neighbors...\n",
      "[t-SNE] Indexed 8 samples in 0.000s...\n",
      "[t-SNE] Computed neighbors for 8 samples in 0.004s...\n",
      "[t-SNE] Computed conditional probabilities for sample 8 / 8\n",
      "[t-SNE] Mean sigma: 1125899906842624.000000\n",
      "[t-SNE] Computed conditional probabilities in 0.008s\n",
      "[t-SNE] Iteration 50: error = 44.6394119, gradient norm = 0.2558908 (50 iterations in 0.011s)\n",
      "[t-SNE] Iteration 100: error = 36.6942749, gradient norm = 0.2026605 (50 iterations in 0.009s)\n",
      "[t-SNE] Iteration 150: error = 42.1495018, gradient norm = 0.2005733 (50 iterations in 0.009s)\n",
      "[t-SNE] Iteration 200: error = 47.6219788, gradient norm = 0.4854979 (50 iterations in 0.009s)\n",
      "[t-SNE] Iteration 250: error = 43.5166702, gradient norm = 0.1466465 (50 iterations in 0.011s)\n",
      "[t-SNE] KL divergence after 250 iterations with early exaggeration: 43.516670\n",
      "[t-SNE] Iteration 300: error = 0.2592043, gradient norm = 0.0005619 (50 iterations in 0.009s)\n",
      "[t-SNE] Iteration 350: error = 0.2033293, gradient norm = 0.0001243 (50 iterations in 0.009s)\n",
      "[t-SNE] Iteration 400: error = 0.1998670, gradient norm = 0.0000502 (50 iterations in 0.009s)\n",
      "[t-SNE] Iteration 450: error = 0.1988546, gradient norm = 0.0000135 (50 iterations in 0.009s)\n",
      "[t-SNE] Iteration 500: error = 0.1987914, gradient norm = 0.0000028 (50 iterations in 0.009s)\n",
      "[t-SNE] Iteration 550: error = 0.1987885, gradient norm = 0.0000003 (50 iterations in 0.009s)\n",
      "[t-SNE] Iteration 600: error = 0.1987885, gradient norm = 0.0000001 (50 iterations in 0.010s)\n",
      "[t-SNE] Iteration 600: gradient norm 0.000000. Finished.\n",
      "[t-SNE] KL divergence after 600 iterations: 0.198788\n"
     ]
    },
    {
     "data": {
      "image/png": "[encoded data removed]",
      "text/plain": [
       "<Figure size 1800x1152 with 1 Axes>"
      ]
     },
     "metadata": {
      "needs_background": "light"
     },
     "output_type": "display_data"
    }
   ],
   "source": [
    "mpl.rcParams['figure.figsize'] = (25, 16) # use bigger graphs\n",
    "\n",
    "model = TSNE(n_components=2, perplexity=25, verbose=2, random_state=686861).fit_transform(corr_mat)\n",
    "\n",
    "x_axis=model[:,0]\n",
    "y_axis=model[:,1]\n",
    "x_norm = (x_axis-np.min(x_axis)) / (np.max(x_axis) - np.min(x_axis))\n",
    "y_norm = (y_axis-np.min(y_axis)) / (np.max(y_axis) - np.min(y_axis))\n",
    "\n",
    "fig, ax = plt.subplots()\n",
    "palette = sns.color_palette('deep', np.unique(membership_labels).max() + 1)\n",
    "colors = [palette[x] if x >= 0 else (0.0, 0.0, 0.0) for x in membership_labels]\n",
    "    \n",
    "ax.scatter(x_norm, y_norm, c = colors)\n",
    "names = list(corr_mat.index)\n",
    "\n",
    "for i, name in enumerate(names):\n",
    "    ax.annotate(truncate_str(mnemonic_names[name]), (x_norm[i],y_norm[i]))    \n",
    "    \n",
    "    \n",
    "fig.savefig('stockclusters.png')"
   ]
  },
  {
   "cell_type": "markdown",
   "metadata": {},
   "source": [
    "Symbols plotted graphically visually depicts, where you can find some of the prominent clusters, as described above."
   ]
  }
 ],
 "metadata": {
  "kernelspec": {
   "display_name": "conda_python3",
   "language": "python",
   "name": "conda_python3"
  },
  "language_info": {
   "codemirror_mode": {
    "name": "ipython",
    "version": 3
   },
   "file_extension": ".py",
   "mimetype": "text/x-python",
   "name": "python",
   "nbconvert_exporter": "python",
   "pygments_lexer": "ipython3",
   "version": "3.6.10"
  }
 },
 "nbformat": 4,
 "nbformat_minor": 4
}
